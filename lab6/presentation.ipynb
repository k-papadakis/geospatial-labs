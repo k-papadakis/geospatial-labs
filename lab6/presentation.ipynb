{
 "cells": [
  {
   "cell_type": "markdown",
   "metadata": {},
   "source": [
    "# Geospatial Big Data Analysis Lab 6: Rotated Object Detection in Aerial Images\n",
    "\n",
    "**Konstantinos Papadakis**\n",
    "\n",
    "*k.i.papadakis@gmail.com*\n",
    "\n",
    "In this document we explore rotated object detection on the [DOTA](https://captain-whu.github.io/DOTA/dataset.html) dataset, using the [mmrotate](https://github.com/open-mmlab/mmrotate) toolbox."
   ]
  },
  {
   "cell_type": "markdown",
   "metadata": {},
   "source": [
    "## The DOTA Dataset"
   ]
  },
  {
   "cell_type": "markdown",
   "metadata": {},
   "source": [
    "![DOTA classes example](https://captain-whu.github.io/DOTA/images/instances-DOTA.jpg)"
   ]
  },
  {
   "cell_type": "markdown",
   "metadata": {},
   "source": [
    "\n",
    "DOTA is a large-scale dataset for object detection in aerial images and it is commonly used as a benchmark dataset for aerial object detection. The images are collected from different sensors and platforms. Each image is of the size in the range from `800 × 800` to `20,000 × 20,000` pixels and contains objects exhibiting a wide variety of scales, orientations, and shapes.\n",
    "\n",
    "In this document we are concerned with the **DOTA-v.1.0** dataset. DOTA-v1.0 contains `15` common categories, `2,806` images and `188,282` instances. The proportions of the training set, validation set, and testing set in DOTA-v1.0 are `1/2`, `1/6`, and `1/3`, respectively.\n",
    "\n",
    "Each object is annotated by an bounding bounding box (OBB) and the object's class. Each image has a corresponding annotation file in the following form\n",
    "\n",
    "```\n",
    "1084 565 1069 573 1050 533 1065 526 small-vehicle 1\n",
    "910 494 930 482 1012 634 990 646 large-vehicle 0\n",
    "696 593 718 583 798 738 776 751 large-vehicle 0\n",
    "...\n",
    "``` \n",
    "\n",
    "The first 8 numbers are the $(x_1, y_1), ... , (x_4, y_4)$ vertices of the OBB, arranged in the clockwise order, followed by the class name and the difficulty of the instance (1 if difficult else 0).\n",
    "\n",
    "There are 15 classes, namely `plane, ship, storage tank, baseball diamond, tennis court, swimming pool, ground track field, harbor, bridge, large vehicle, small vehicle, helicopter, roundabout, soccer ball field, basketball court, container crane, airport, helipad`.\n"
   ]
  },
  {
   "cell_type": "markdown",
   "metadata": {},
   "source": [
    "![DOTA Sample Images and Statistics](./images/DOTA-examples.png)\n",
    "*An example image taken from DOTA. (a) A typical image in DOTA consisting of many instances from multiple categories. (b), (c), (d), (e) are cropped from the source image. (f) and (g) exhibit the size and orientation histograms, respectively, for all instances. [[source](https://arxiv.org/abs/2102.12219)]*"
   ]
  },
  {
   "cell_type": "markdown",
   "metadata": {},
   "source": [
    "## Related Work"
   ]
  },
  {
   "cell_type": "markdown",
   "metadata": {},
   "source": [
    "### Conventional Object Detection"
   ]
  },
  {
   "cell_type": "code",
   "execution_count": null,
   "metadata": {},
   "outputs": [],
   "source": []
  }
 ],
 "metadata": {
  "kernelspec": {
   "display_name": "Python 3.10.6 ('geospatial')",
   "language": "python",
   "name": "python3"
  },
  "language_info": {
   "codemirror_mode": {
    "name": "ipython",
    "version": 3
   },
   "file_extension": ".py",
   "mimetype": "text/x-python",
   "name": "python",
   "nbconvert_exporter": "python",
   "pygments_lexer": "ipython3",
   "version": "3.10.6"
  },
  "orig_nbformat": 4,
  "vscode": {
   "interpreter": {
    "hash": "9137013a7c51b7cb17bca2f64e11260fabb6f8606e92259eaaf839e729362f80"
   }
  }
 },
 "nbformat": 4,
 "nbformat_minor": 2
}
